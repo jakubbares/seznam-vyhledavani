{
 "cells": [
  {
   "cell_type": "code",
   "execution_count": 13,
   "metadata": {},
   "outputs": [],
   "source": [
    "import pandas as pd\n",
    "from sklearn.feature_extraction.text import TfidfVectorizer\n",
    "from sklearn.metrics.pairwise import linear_kernel\n",
    "from ufal.morphodita import *"
   ]
  },
  {
   "cell_type": "code",
   "execution_count": 7,
   "metadata": {},
   "outputs": [],
   "source": [
    "data = pd.read_csv('../clustering/articles_cleaned.csv',  sep='|')\n",
    "data.columns = ['id','query','url', 'headline', 'paragraphs']\n",
    "data['paragraphs'] = data['paragraphs'].fillna('')"
   ]
  },
  {
   "cell_type": "code",
   "execution_count": 8,
   "metadata": {},
   "outputs": [],
   "source": [
    "data =  data[data['paragraphs'] != '\\xa0']  "
   ]
  },
  {
   "cell_type": "code",
   "execution_count": 10,
   "metadata": {},
   "outputs": [],
   "source": [
    "lemma_column = data.shape[0]*[[]]\n",
    "data['lemmas'] = lemma_column"
   ]
  },
  {
   "cell_type": "code",
   "execution_count": 14,
   "metadata": {},
   "outputs": [],
   "source": [
    "tfidf = TfidfVectorizer(ngram_range=(1,1))\n",
    "tagger = Tagger.load('../../morphodita/czech-morfflex-pdt-161115.tagger')\n",
    "forms = Forms()"
   ]
  },
  {
   "cell_type": "code",
   "execution_count": 34,
   "metadata": {},
   "outputs": [],
   "source": [
    "from string import punctuation\n",
    "import re"
   ]
  },
  {
   "cell_type": "code",
   "execution_count": null,
   "metadata": {},
   "outputs": [],
   "source": []
  },
  {
   "cell_type": "code",
   "execution_count": 37,
   "metadata": {},
   "outputs": [],
   "source": [
    "for index, row in data.iterrows():\n",
    "    paragraph = row['paragraphs']\n",
    "    lemmas = TaggedLemmas()\n",
    "    tokens = TokenRanges()\n",
    "    tokenizer = tagger.newTokenizer()\n",
    "    tokenizer.setText(paragraph)\n",
    "    allLemmas = []\n",
    "    while tokenizer.nextSentence(forms, tokens):\n",
    "        newLemmas = []\n",
    "        tagger.tag(forms, lemmas)\n",
    "        newLemmas = [l.lemma for l in lemmas]\n",
    "        allLemmas.extend(newLemmas)\n",
    "    row['lemmas'] = ' '.join(l for l in allLemmas if l not in punctuation and not re.match(\"[0-9]+\", l))\n",
    "#     print(row['lemmas'] )"
   ]
  },
  {
   "cell_type": "code",
   "execution_count": 42,
   "metadata": {},
   "outputs": [],
   "source": [
    "data =  data[data['lemmas'] != '']"
   ]
  },
  {
   "cell_type": "code",
   "execution_count": 44,
   "metadata": {},
   "outputs": [],
   "source": [
    "# data['lemmas']"
   ]
  },
  {
   "cell_type": "code",
   "execution_count": 45,
   "metadata": {},
   "outputs": [],
   "source": [
    "tfidf_matrix = tfidf.fit_transform(data['lemmas'])"
   ]
  },
  {
   "cell_type": "code",
   "execution_count": 46,
   "metadata": {},
   "outputs": [],
   "source": [
    "cosine_sim = linear_kernel(tfidf_matrix, tfidf_matrix)"
   ]
  },
  {
   "cell_type": "code",
   "execution_count": 47,
   "metadata": {},
   "outputs": [],
   "source": [
    "indices = pd.Series(data.index, index=data['url'])"
   ]
  },
  {
   "cell_type": "code",
   "execution_count": 48,
   "metadata": {},
   "outputs": [],
   "source": [
    "indexes = [1, 3, 5, 7, 8]"
   ]
  },
  {
   "cell_type": "code",
   "execution_count": 49,
   "metadata": {},
   "outputs": [],
   "source": [
    "dfs = [pd.DataFrame(cosine_sim[index]) for index in indexes]\n",
    "sim_scores = pd.concat(dfs, axis=1)    "
   ]
  },
  {
   "cell_type": "code",
   "execution_count": 50,
   "metadata": {},
   "outputs": [],
   "source": [
    "average_scores = sim_scores.mean(axis=1)"
   ]
  },
  {
   "cell_type": "code",
   "execution_count": 51,
   "metadata": {},
   "outputs": [],
   "source": [
    "average_scores.columns = ['index', 'score']"
   ]
  },
  {
   "cell_type": "code",
   "execution_count": 52,
   "metadata": {},
   "outputs": [],
   "source": [
    "average_scores = average_scores.sort_values(ascending=False)"
   ]
  },
  {
   "cell_type": "code",
   "execution_count": 53,
   "metadata": {},
   "outputs": [],
   "source": [
    "article_indices = average_scores.nlargest(10).keys()"
   ]
  },
  {
   "cell_type": "code",
   "execution_count": 54,
   "metadata": {},
   "outputs": [
    {
     "data": {
      "text/plain": [
       "Int64Index([8, 3, 5, 10, 1, 12, 14, 7, 15, 3873], dtype='int64')"
      ]
     },
     "execution_count": 54,
     "metadata": {},
     "output_type": "execute_result"
    }
   ],
   "source": [
    "article_indices"
   ]
  },
  {
   "cell_type": "code",
   "execution_count": 55,
   "metadata": {},
   "outputs": [
    {
     "data": {
      "text/plain": [
       "8       https://eurozpravy.cz/pocasi/pocasi-v-cr/23965...\n",
       "3       https://eurozpravy.cz/pocasi/pocasi-v-cr/23974...\n",
       "5       https://eurozpravy.cz/pocasi/pocasi-v-cr/23935...\n",
       "11      https://eurozpravy.cz/pocasi/pocasi-v-cr/23942...\n",
       "1       https://eurozpravy.cz/pocasi/pocasi-v-cr/23958...\n",
       "14      https://eurozpravy.cz/pocasi/pocasi-v-cr/23928...\n",
       "16      https://moneymag.cz/aktuality/10769-predpoved-...\n",
       "7       https://globe24.cz/pocasi/63694-predpoved-poca...\n",
       "17      https://globe24.cz/pocasi/63721-predpoved-poca...\n",
       "4132    http://tn.nova.cz/clanek/martin-na-bilem-koni-...\n",
       "Name: url, dtype: object"
      ]
     },
     "execution_count": 55,
     "metadata": {},
     "output_type": "execute_result"
    }
   ],
   "source": [
    "data['url'].iloc[article_indices]"
   ]
  }
 ],
 "metadata": {
  "kernelspec": {
   "display_name": "Python 3",
   "language": "python",
   "name": "python3"
  },
  "language_info": {
   "codemirror_mode": {
    "name": "ipython",
    "version": 3
   },
   "file_extension": ".py",
   "mimetype": "text/x-python",
   "name": "python",
   "nbconvert_exporter": "python",
   "pygments_lexer": "ipython3",
   "version": "3.6.4"
  }
 },
 "nbformat": 4,
 "nbformat_minor": 2
}
