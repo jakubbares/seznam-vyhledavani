{
 "cells": [
  {
   "cell_type": "code",
   "execution_count": 2,
   "metadata": {},
   "outputs": [
    {
     "name": "stderr",
     "output_type": "stream",
     "text": [
      "C:\\ProgramData\\Anaconda3\\lib\\site-packages\\gensim\\utils.py:1197: UserWarning: detected Windows; aliasing chunkize to chunkize_serial\n",
      "  warnings.warn(\"detected Windows; aliasing chunkize to chunkize_serial\")\n"
     ]
    }
   ],
   "source": [
    "import pandas as pd\n",
    "from ufal.morphodita import *\n",
    "import csv\n",
    "import gensim"
   ]
  },
  {
   "cell_type": "code",
   "execution_count": 5,
   "metadata": {},
   "outputs": [],
   "source": [
    "data = pd.read_csv('articles_cleaned.csv',  sep='|')\n",
    "data.columns = ['id','query','url', 'headline', 'paragraphs']\n",
    "data['paragraphs'] = data['paragraphs'].fillna('')"
   ]
  },
  {
   "cell_type": "code",
   "execution_count": 6,
   "metadata": {},
   "outputs": [],
   "source": [
    "data =  data[data['paragraphs'] != '\\xa0']  "
   ]
  },
  {
   "cell_type": "code",
   "execution_count": 7,
   "metadata": {},
   "outputs": [],
   "source": [
    "lemma_column = data.shape[0]*[[]]"
   ]
  },
  {
   "cell_type": "code",
   "execution_count": 8,
   "metadata": {},
   "outputs": [],
   "source": [
    "data['lemmas'] = lemma_column"
   ]
  },
  {
   "cell_type": "code",
   "execution_count": 11,
   "metadata": {},
   "outputs": [],
   "source": [
    "tagger = Tagger.load('../../morphodita/czech-morfflex-pdt-161115.tagger')\n",
    "forms = Forms()"
   ]
  },
  {
   "cell_type": "code",
   "execution_count": null,
   "metadata": {},
   "outputs": [],
   "source": [
    "for index, row in data.iterrows():\n",
    "    paragraph = row['paragraphs']\n",
    "    lemmas = TaggedLemmas()\n",
    "    tokens = TokenRanges()\n",
    "    tokenizer = tagger.newTokenizer()\n",
    "    tokenizer.setText(paragraph)\n",
    "    allLemmas = []\n",
    "    while tokenizer.nextSentence(forms, tokens):\n",
    "        newLemmas = []\n",
    "        tagger.tag(forms, lemmas)\n",
    "        newLemmas = [l.lemma for l in lemmas]\n",
    "        allLemmas.extend(newLemmas)\n",
    "#     print(allLemmas)\n",
    "    row['lemmas'] = allLemmas"
   ]
  },
  {
   "cell_type": "code",
   "execution_count": 80,
   "metadata": {},
   "outputs": [],
   "source": [
    "lemma_data = data['lemmas']"
   ]
  },
  {
   "cell_type": "code",
   "execution_count": 81,
   "metadata": {},
   "outputs": [
    {
     "data": {
      "text/plain": [
       "0     [mnohovrstevnatý, ,, sebevědomý, a-1, úspěšný,...\n",
       "1     [komunista, předběhnout_:W, sociální, demokrac...\n",
       "2     [bývalý_^(*2t), pražský, imám, Samer_;S, Sheha...\n",
       "4     [toupat_:T, na-1, vrchol, vodárenský, věž, ,, ...\n",
       "5     [případ, rakouský, penzionovaný_^(*2t), plukov...\n",
       "6     [Stanislav_;Y, Chvála_;S, (, 38, ), být, gener...\n",
       "7     [v-1, střet, mezi-1, vedení_^(*5ést), ČEZ-1_:B...\n",
       "8     [byznysový, model, klasický, personální, agent...\n",
       "9     [vedení_^(*5ést), polostátní, firma, ČEZ-1_:B_...\n",
       "10    [mobilní, operátor, T-Mobile_;K, zvýšit_:W, od...\n",
       "11    [v-1, čelo, automobilka, Tesla-1_;S, nahradit_...\n",
       "12    [komerční, banka, za, tři`3, čtvrtletí, letošn...\n",
       "13    [od-1, mezinárodní, konference, o-1, pornobyzn...\n",
       "15    [český, vláda, moci_^(mít_možnost_[něco_dělat]...\n",
       "16    [klient, od-1, banka, požadovat_:T, tři`3, zák...\n",
       "17    [od-1, mezinárodní, konference, o-1, pornobyzn...\n",
       "18    [nabídka, měsíc, zdarma, platit_:T, pouze, pro...\n",
       "19    [když, se_^(zvr._zájmeno/částice), říci, v-1, ...\n",
       "20    [něco, velký, ., v-1, všechen, ., i-1, v-1, sp...\n",
       "21    [dáma, a-1, pán, ,, když, já, Pavel-1_;Y, Bene...\n",
       "22    [kampus_^(areál_vysoké_školy), českobudějovick...\n",
       "23    [zákazník, český, banka, být, příští, měsíc, o...\n",
       "26    [udělení_^(*3it), tento, souhlas, s-1, zpracov...\n",
       "31    [nabídka, měsíc, zdarma, platit_:T, pouze, pro...\n",
       "33    [zbytečný, regulace, znepříjemňovat_:T, život,...\n",
       "34    [když, Jiří_;Y, Zimola_;S, vloni_,h, v-1, září...\n",
       "35    [ministerstvo, průmysl, (, MPO-1_:B_^(minister...\n",
       "36    [bankovní, rada-3_^(poradní_sbor;_př._Česká_ná...\n",
       "37    [množství, energie, spotřebovaný_^(*2t), k-1, ...\n",
       "Name: lemmas, dtype: object"
      ]
     },
     "execution_count": 81,
     "metadata": {},
     "output_type": "execute_result"
    }
   ],
   "source": [
    "lemma_data"
   ]
  },
  {
   "cell_type": "code",
   "execution_count": 82,
   "metadata": {},
   "outputs": [],
   "source": [
    "dictionary = gensim.corpora.Dictionary(lemma_data)\n",
    "dictionary.filter_extremes(no_below=1, no_above=0.5, keep_n=100000)\n",
    "bow_corpus = [dictionary.doc2bow(doc) for doc in lemma_data]"
   ]
  },
  {
   "cell_type": "code",
   "execution_count": 87,
   "metadata": {},
   "outputs": [],
   "source": [
    "lda_model = gensim.models.LdaMulticore(bow_corpus, num_topics=3, id2word=dictionary, passes=2, workers=2)"
   ]
  },
  {
   "cell_type": "code",
   "execution_count": 88,
   "metadata": {},
   "outputs": [
    {
     "name": "stdout",
     "output_type": "stream",
     "text": [
      "Topic: 0 Word: 0.006*\"tento\" + 0.004*\"tak-3\" + 0.004*\"těžba\" + 0.004*\"správce\" + 0.004*\"chtít\" + 0.004*\"firma\" + 0.004*\"po-1\" + 0.003*\"karta\" + 0.003*\"zpracování_^(*3at)\" + 0.003*\"předplatné_^(poplatek)\"\n",
      "Topic: 1 Word: 0.017*\"\"\" + 0.005*\"říci\" + 0.004*\"člověk\" + 0.004*\"když\" + 0.004*\"jít\" + 0.004*\"podle-2\" + 0.004*\"všechen\" + 0.004*\"velký\" + 0.004*\"tak-3\" + 0.003*\"evropský\"\n",
      "Topic: 2 Word: 0.009*\"\"\" + 0.006*\"procento\" + 0.004*\"svůj-1_^(přivlast.)\" + 0.004*\"koruna\" + 0.004*\"banka\" + 0.003*\"architektura\" + 0.003*\"Praha_;G\" + 0.003*\"tento\" + 0.003*\"dům\" + 0.003*\"informace\"\n"
     ]
    }
   ],
   "source": [
    "for idx, topic in lda_model.print_topics(-1):\n",
    "    print('Topic: {} Word: {}'.format(idx, topic))"
   ]
  }
 ],
 "metadata": {
  "kernelspec": {
   "display_name": "Python 3",
   "language": "python",
   "name": "python3"
  },
  "language_info": {
   "codemirror_mode": {
    "name": "ipython",
    "version": 3
   },
   "file_extension": ".py",
   "mimetype": "text/x-python",
   "name": "python",
   "nbconvert_exporter": "python",
   "pygments_lexer": "ipython3",
   "version": "3.6.4"
  }
 },
 "nbformat": 4,
 "nbformat_minor": 2
}
