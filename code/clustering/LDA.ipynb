{
 "cells": [
  {
   "cell_type": "code",
   "execution_count": 2,
   "metadata": {},
   "outputs": [
    {
     "name": "stderr",
     "output_type": "stream",
     "text": [
      "C:\\ProgramData\\Anaconda3\\lib\\site-packages\\gensim\\utils.py:1197: UserWarning: detected Windows; aliasing chunkize to chunkize_serial\n",
      "  warnings.warn(\"detected Windows; aliasing chunkize to chunkize_serial\")\n"
     ]
    }
   ],
   "source": [
    "import pandas as pd\n",
    "from ufal.morphodita import *\n",
    "import csv\n",
    "import gensim"
   ]
  },
  {
   "cell_type": "code",
   "execution_count": 5,
   "metadata": {},
   "outputs": [],
   "source": [
    "data = pd.read_csv('articles_cleaned.csv',  sep='|')\n",
    "data.columns = ['id','query','url', 'headline', 'paragraphs']\n",
    "data['paragraphs'] = data['paragraphs'].fillna('')"
   ]
  },
  {
   "cell_type": "code",
   "execution_count": 6,
   "metadata": {},
   "outputs": [],
   "source": [
    "data =  data[data['paragraphs'] != '\\xa0']  "
   ]
  },
  {
   "cell_type": "code",
   "execution_count": 7,
   "metadata": {},
   "outputs": [],
   "source": [
    "lemma_column = data.shape[0]*[[]]"
   ]
  },
  {
   "cell_type": "code",
   "execution_count": 8,
   "metadata": {},
   "outputs": [],
   "source": [
    "data['lemmas'] = lemma_column"
   ]
  },
  {
   "cell_type": "code",
   "execution_count": 11,
   "metadata": {},
   "outputs": [],
   "source": [
    "tagger = Tagger.load('../../morphodita/czech-morfflex-pdt-161115.tagger')\n",
    "forms = Forms()"
   ]
  },
  {
   "cell_type": "code",
   "execution_count": 12,
   "metadata": {},
   "outputs": [],
   "source": [
    "for index, row in data.iterrows():\n",
    "    paragraph = row['paragraphs']\n",
    "    lemmas = TaggedLemmas()\n",
    "    tokens = TokenRanges()\n",
    "    tokenizer = tagger.newTokenizer()\n",
    "    tokenizer.setText(paragraph)\n",
    "    allLemmas = []\n",
    "    while tokenizer.nextSentence(forms, tokens):\n",
    "        newLemmas = []\n",
    "        tagger.tag(forms, lemmas)\n",
    "        newLemmas = [l.lemma for l in lemmas]\n",
    "        allLemmas.extend(newLemmas)\n",
    "#     print(allLemmas)\n",
    "    row['lemmas'] = allLemmas"
   ]
  },
  {
   "cell_type": "code",
   "execution_count": 13,
   "metadata": {},
   "outputs": [],
   "source": [
    "lemma_data = data['lemmas']"
   ]
  },
  {
   "cell_type": "code",
   "execution_count": 14,
   "metadata": {},
   "outputs": [
    {
     "data": {
      "text/plain": [
       "0       [souhrn, meteorologický, informace, uplynulý_^...\n",
       "1       [kolem-1, rozsáhlý, tlakový, výše_^(velikost_a...\n",
       "2       [počet, oběť, bouřlivý, počasí, a-1, záplava, ...\n",
       "3       [studený, fronta, se_^(zvr._zájmeno/částice), ...\n",
       "4       [událost_,a_^(*3ý), za, okamžik, a-1, počasí, ...\n",
       "5       [kolem-1, rozsáhlý, tlakový, výše_^(velikost_a...\n",
       "6       [., v-1, místo-1_^(fyzické_umístění), s-1, níz...\n",
       "7       [sobota, 10, ., listopad, 2018, studený, front...\n",
       "8       [mezi-1, tlakový, níže, nad-1, východní, Atlan...\n",
       "9                                                      []\n",
       "10      [sobota, 10, ., listopad, 2018, kolem-1, rozsá...\n",
       "11      [kolem-1, rozsáhlý, tlakový, výše_^(velikost_a...\n",
       "12      [sobota, 10, ., listopad, 2018, kolem-1, rozsá...\n",
       "13                                                     []\n",
       "14      [kolem-1, tlakový, výše_^(velikost_apod.;_též_...\n",
       "15      [zpět, teplotně_^(*1í), nadprůměrný, počasí, v...\n",
       "16      [mezi-1, tlakový, níže, nad-1, východní, Atlan...\n",
       "17      [sobota, 10, ., listopad, 2018, mezi-1, tlakov...\n",
       "18      [zpět, během, svatomartinský, víkend, se_^(zvr...\n",
       "19      [sobota, 10, ., listopad, 2018, letošní, říjen...\n",
       "20      [počasí, v-1, evropský, metropole, chyba, konf...\n",
       "21      [nový, zpráva, z-1, svět, technologie, celý, d...\n",
       "22      [jak-3, moc-3_^(velmi,_ve_spojení_s_adj.,_př._...\n",
       "23      [téměř, každý, den_^(jednotka_času), být, veře...\n",
       "24      [historie, ikona, záhada, kuriozita, sdílet_:T...\n",
       "25      [ahojky, ,, mít, chi, se_^(zvr._zájmeno/částic...\n",
       "26      [mít, vytvořený_^(*3it), účet, jméno, ., příjm...\n",
       "27      [dobrý, den_^(jednotka_času), ,, používat_:T_^...\n",
       "28      [mam, Google_;K, leč-2_^(kniž.;_prohližeč_by.....\n",
       "29      [ilustrační, foto, -, kalendář, používat_:T_^(...\n",
       "                              ...                        \n",
       "4683    [příloha, 100, rok, republika, (, 1918, ,, 193...\n",
       "4684    [sledovat_:T, já, také, na-1, ©, ouha, ,, data...\n",
       "4685                                                   []\n",
       "4686    [říjnový, zpomalení_,s_^(*2t), inflace, moci_^...\n",
       "4687    [Mayová_;S, volat_:T, irský, premiér, ,, muset...\n",
       "4688    [Website_,t, být, téma, :, „, situace, se_^(zv...\n",
       "4689    [reklama, tajemník, OSN-1_:B_;K_^(Organizace_s...\n",
       "4690    [reklama, Theresa_;Y, Mayová_;S, se_^(zvr._záj...\n",
       "4691    [autor, :, vášnivý, čtenář, a-1, knihomol, být...\n",
       "4692    [jiný, se_^(zvr._zájmeno/částice), chlubit_:T,...\n",
       "4693    [sobota, 10, ., listopad, 2018, Itálie_;G, dál...\n",
       "4694    [kniha, brzy, psát, v-1, hlava, ,, až-3_^(až_k...\n",
       "4695    [Lenka_;Y, Filipová_;S, „, Oppidum_;K, být, ná...\n",
       "4696    [poražený_^(*4zit), ., český, tenistka_^(*2a),...\n",
       "4697    [už-1, pětkrát`5, být, jako-1, prezident, česk...\n",
       "4698    [zahrát, několik, míč, a-1, za, chvíle, jít, z...\n",
       "4699    [americký, armáda, provést, v-1, středa, zkouš...\n",
       "4700    [smuteční, akce, po-1, smrt, Němec_;E_;S, v-1,...\n",
       "4701         [následovat_:T, sledovat_:T, já, také, na-1]\n",
       "4702    [zpět, Itálie_;G, dále-3_^(také,_za_další,_pop...\n",
       "4703    [vloni_,h, zdvihat_:T, pohár, pro-1, vítěz, če...\n",
       "4704    [sobota, 10, ., listopad, 2018, Donald_;Y, Tru...\n",
       "4705    [na-1, výjezda_,a, z-1, Ústí_;G, nad-1, Orlice...\n",
       "4706    [visací_^(^IC*3et), zámek, natočit_:W, klip, k...\n",
       "4707    [na-1, dálnice, D-0_:B_;Y, 1, u-1, Jihlava_;G,...\n",
       "4708    [někdejší, první, dáma, a-1, bývalý_^(*2t), ve...\n",
       "4709    [potřebovat_:T, slyšet, ,, že-1, někdo, zažíva...\n",
       "4710    [český, tenistka_^(*2a), před-1, finále, Fed_;...\n",
       "4711    [zpět, kmotra, poslední, kniha, spisovatelka_^...\n",
       "4712                                                   []\n",
       "Name: lemmas, Length: 4712, dtype: object"
      ]
     },
     "execution_count": 14,
     "metadata": {},
     "output_type": "execute_result"
    }
   ],
   "source": [
    "lemma_data"
   ]
  },
  {
   "cell_type": "code",
   "execution_count": 15,
   "metadata": {},
   "outputs": [],
   "source": [
    "dictionary = gensim.corpora.Dictionary(lemma_data)\n",
    "dictionary.filter_extremes(no_below=20, no_above=0.35, keep_n=100000)\n",
    "bow_corpus = [dictionary.doc2bow(doc) for doc in lemma_data]"
   ]
  },
  {
   "cell_type": "code",
   "execution_count": 16,
   "metadata": {},
   "outputs": [],
   "source": [
    "tfidf = gensim.models.TfidfModel(bow_corpus)\n",
    "corpus_tfidf = tfidf[bow_corpus]"
   ]
  },
  {
   "cell_type": "code",
   "execution_count": 19,
   "metadata": {},
   "outputs": [],
   "source": [
    "lda_model = gensim.models.LdaMulticore(corpus_tfidf, num_topics=10, id2word=dictionary, passes=4, workers=4)"
   ]
  },
  {
   "cell_type": "code",
   "execution_count": 20,
   "metadata": {},
   "outputs": [
    {
     "name": "stdout",
     "output_type": "stream",
     "text": [
      "Topic: 0 Word: 0.015*\"kuriozita\" + 0.014*\"záhada\" + 0.014*\"ikona\" + 0.014*\"sdílet_:T\" + 0.011*\"historie\" + 0.004*\"minuta_:B\" + 0.002*\"café_,t_^(kavárna)\" + 0.002*\"26\" + 0.002*\"—\" + 0.002*\"pražský\"\n",
      "Topic: 1 Word: 0.062*\"5718\" + 0.062*\"1214\" + 0.044*\"ISSN_:B\" + 0.007*\"inzerát\" + 0.006*\"prodat_:W\" + 0.005*\"JavaScript\" + 0.005*\"můj_^(přivlast.)\" + 0.004*\"centimetr_:B\" + 0.004*\"autor\" + 0.004*\"reklama\"\n",
      "Topic: 2 Word: 0.009*\"News-1_;K_,t_^(souč._názvů,_např._Daily_N.)\" + 0.009*\"Czech-2_,t\" + 0.008*\"centrum\" + 0.007*\"akciový_:B_^(jen_akciová_společnost)\" + 0.006*\"společnost_:B\" + 0.006*\"obsah\" + 0.005*\"souhlas\" + 0.005*\"šíření_^(*3it)\" + 0.005*\"jakýkoli\" + 0.005*\"server\"\n",
      "Topic: 3 Word: 0.007*\"Patrik_;Y\" + 0.006*\"omezený_:B\" + 0.006*\"ručení_:B\" + 0.005*\"ISSN_:B\" + 0.004*\"Kurzy.cz_;S\" + 0.004*\"Aliaweb_;K\" + 0.004*\"8688\" + 0.004*\"1801\" + 0.004*\"společnost_:B\" + 0.004*\"Křeček_;S\"\n",
      "Topic: 4 Word: 0.003*\"\"\" + 0.003*\"…\" + 0.003*\"„\" + 0.003*\"“\" + 0.002*\"?\" + 0.002*\"už-1\" + 0.002*\"člověk\" + 0.002*\"český\" + 0.002*\"co-1\" + 0.002*\"když\"\n",
      "Topic: 5 Word: 0.012*\"*\" + 0.002*\"\"\" + 0.002*\"minuta\" + 0.002*\"před-1\" + 0.002*\"?\" + 0.002*\"“\" + 0.002*\"video-1\" + 0.002*\"„\" + 0.002*\"2\" + 0.002*\"Ryugu_;G\"\n",
      "Topic: 6 Word: 0.008*\"minuta_:B\" + 0.005*\"×\" + 0.004*\"animovaný_^(*2t)\" + 0.003*\"pohádka\" + 0.003*\"studie\" + 0.003*\"seriál\" + 0.003*\"…\" + 0.002*\"\"\" + 0.002*\"dítě\" + 0.002*\"souhrn\"\n",
      "Topic: 7 Word: 0.004*\"telefon\" + 0.004*\"displej\" + 0.003*\"Samsung_;K\" + 0.003*\"*\" + 0.003*\"nový\" + 0.002*\"notifikace\" + 0.002*\"smartphone_;R_,t\" + 0.002*\"\"\" + 0.002*\"výrobce\" + 0.002*\"model\"\n",
      "Topic: 8 Word: 0.007*\"textový\" + 0.005*\"reportáž\" + 0.005*\"dispozice\" + 0.004*\"hra_^(dětská;_v_divadle;...)\" + 0.004*\"zápas\" + 0.003*\"—\" + 0.003*\"muzika\" + 0.003*\"minuta_:B\" + 0.003*\"\"\" + 0.002*\"2\"\n",
      "Topic: 9 Word: 0.007*\"akciový_:B_^(jen_akciová_společnost)\" + 0.006*\"společnost_:B\" + 0.006*\"News-1_;K_,t_^(souč._názvů,_např._Daily_N.)\" + 0.006*\"Czech-2_,t\" + 0.005*\"server\" + 0.005*\"obsah\" + 0.005*\"centrum\" + 0.005*\"souhlas\" + 0.004*\"šíření_^(*3it)\" + 0.004*\"jakýkoli\"\n"
     ]
    }
   ],
   "source": [
    "for idx, topic in lda_model.print_topics(-1):\n",
    "    print('Topic: {} Word: {}'.format(idx, topic))"
   ]
  }
 ],
 "metadata": {
  "kernelspec": {
   "display_name": "Python 3",
   "language": "python",
   "name": "python3"
  },
  "language_info": {
   "codemirror_mode": {
    "name": "ipython",
    "version": 3
   },
   "file_extension": ".py",
   "mimetype": "text/x-python",
   "name": "python",
   "nbconvert_exporter": "python",
   "pygments_lexer": "ipython3",
   "version": "3.6.4"
  }
 },
 "nbformat": 4,
 "nbformat_minor": 2
}
